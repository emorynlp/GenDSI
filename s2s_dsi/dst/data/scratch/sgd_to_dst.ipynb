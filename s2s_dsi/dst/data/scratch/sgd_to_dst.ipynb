{
 "cells": [
  {
   "cell_type": "code",
   "execution_count": 18,
   "outputs": [],
   "source": [
    "import json\n",
    "import os"
   ],
   "metadata": {
    "collapsed": false,
    "ExecuteTime": {
     "end_time": "2023-09-20T15:57:50.741017052Z",
     "start_time": "2023-09-20T15:57:50.687368306Z"
    }
   }
  },
  {
   "cell_type": "code",
   "execution_count": 19,
   "outputs": [
    {
     "name": "stdout",
     "output_type": "stream",
     "text": [
      "Changed directory to root.\n",
      "/home/jdfinch/PycharmProjects/dstrr/src/dst/data/scratch\n"
     ]
    }
   ],
   "source": [
    "import pathlib as pl\n",
    "cwd = pl.Path('.').absolute()\n",
    "if cwd.name == 'scratch':\n",
    "    os.chdir(cwd.parent.parent.parent.parent)\n",
    "print(os.getcwd())"
   ],
   "metadata": {
    "collapsed": false,
    "ExecuteTime": {
     "end_time": "2023-09-20T15:57:50.741327422Z",
     "start_time": "2023-09-20T15:57:50.729285858Z"
    }
   }
  },
  {
   "cell_type": "code",
   "execution_count": 20,
   "metadata": {
    "ExecuteTime": {
     "end_time": "2023-09-20T15:58:13.071447772Z",
     "start_time": "2023-09-20T15:57:50.729416168Z"
    }
   },
   "outputs": [],
   "source": [
    "data_path = \"data/sgd-data/\"\n",
    "splits = [\"train\", \"dev\", \"test\"]\n",
    "for split in splits:\n",
    "    files_path = data_path + split + \"/\"\n",
    "    combined_file_name = (files_path + \"{split}.json\").format(split=split)\n",
    "    combined_file = None\n",
    "    for file_name in os.listdir(files_path):\n",
    "        if file_name == \"schema.json\": \n",
    "            continue\n",
    "        if combined_file is None:\n",
    "            combined_file = json.load(open(files_path + file_name))\n",
    "        else:\n",
    "            combined_file = combined_file + json.load(open(files_path + file_name))\n",
    "    json.dump(combined_file, open(combined_file_name, 'w'))"
   ]
  },
  {
   "cell_type": "code",
   "execution_count": 21,
   "metadata": {
    "ExecuteTime": {
     "end_time": "2023-09-20T15:58:32.098123869Z",
     "start_time": "2023-09-20T15:58:13.071265286Z"
    }
   },
   "outputs": [],
   "source": [
    "train_data = json.load(open(data_path + \"train/train.json\"))\n",
    "dev_data = json.load(open(data_path + \"dev/dev.json\"))\n",
    "test_data = json.load(open(data_path + \"test/test.json\"))\n",
    "full_data = train_data + dev_data + test_data\n",
    "json.dump(full_data, open(data_path + \"full.json\", 'w'))"
   ]
  },
  {
   "cell_type": "code",
   "execution_count": 22,
   "metadata": {
    "ExecuteTime": {
     "end_time": "2023-09-20T15:58:32.142768309Z",
     "start_time": "2023-09-20T15:58:32.101118725Z"
    }
   },
   "outputs": [],
   "source": [
    "train_ontology = json.load(open(data_path + \"train/schema.json\"))\n",
    "dev_ontology = json.load(open(data_path + \"dev/schema.json\"))\n",
    "test_ontology = json.load(open(data_path + \"test/schema.json\"))\n",
    "full_schema = train_ontology + dev_ontology + test_ontology\n",
    "json.dump(full_schema, open(data_path + \"ontology.json\", 'w'))"
   ]
  }
 ],
 "metadata": {
  "kernelspec": {
   "display_name": "dstr",
   "language": "python",
   "name": "python3"
  },
  "language_info": {
   "codemirror_mode": {
    "name": "ipython",
    "version": 3
   },
   "file_extension": ".py",
   "mimetype": "text/x-python",
   "name": "python",
   "nbconvert_exporter": "python",
   "pygments_lexer": "ipython3",
   "version": "3.11.5"
  },
  "orig_nbformat": 4
 },
 "nbformat": 4,
 "nbformat_minor": 2
}
