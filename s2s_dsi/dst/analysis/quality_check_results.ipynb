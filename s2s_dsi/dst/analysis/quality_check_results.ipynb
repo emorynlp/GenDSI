{
 "cells": [
  {
   "cell_type": "code",
   "execution_count": 1,
   "outputs": [
    {
     "data": {
      "text/plain": "'/home/jdfinch/PycharmProjects/diverse-state-tracking-refactor'"
     },
     "execution_count": 1,
     "metadata": {},
     "output_type": "execute_result"
    }
   ],
   "source": [
    "import os\n",
    "os.chdir('../../..')\n",
    "os.getcwd()"
   ],
   "metadata": {
    "collapsed": false,
    "ExecuteTime": {
     "end_time": "2023-08-10T14:41:38.689943780Z",
     "start_time": "2023-08-10T14:41:38.688818262Z"
    }
   }
  },
  {
   "cell_type": "code",
   "execution_count": 2,
   "outputs": [],
   "source": [
    "from dst.utils.file import File\n",
    "import pandas as pd"
   ],
   "metadata": {
    "collapsed": false,
    "ExecuteTime": {
     "end_time": "2023-08-10T14:41:38.897121863Z",
     "start_time": "2023-08-10T14:41:38.689277749Z"
    }
   }
  },
  {
   "cell_type": "code",
   "execution_count": 3,
   "outputs": [
    {
     "data": {
      "text/plain": "      ﻿worker_id                               task_id  \\\n0   9NZ37A6TMQ47  1849ea0f-863d-4e3c-8b45-d09b70d5fd9b   \n1   6VN9YHVJC7FJ  1849ea0f-863d-4e3c-8b45-d09b70d5fd9b   \n2   Y2HP9MDFM69W  1849ea0f-863d-4e3c-8b45-d09b70d5fd9b   \n3   VPVDCE66E222  24c8a0ab-56c1-4dbb-84cb-31d3e333cf33   \n4   TVTQZQFYR2AA  24c8a0ab-56c1-4dbb-84cb-31d3e333cf33   \n..           ...                                   ...   \n85  FTJXXZJXKCTX  f611766c-ce63-45c2-ad5d-782842f570ab   \n86  WEQYMQAYFG3C  f611766c-ce63-45c2-ad5d-782842f570ab   \n87  GZTNGDECWANC  fa121f1a-2f74-49e3-9f27-47b456af7e32   \n88  XR22VMZVFQH2  fa121f1a-2f74-49e3-9f27-47b456af7e32   \n89  VPVDCE66E222  fa121f1a-2f74-49e3-9f27-47b456af7e32   \n\n                        task_response_id  \\\n0   51e06029-1ed0-4b50-883c-10ee5ad529c7   \n1   2538ab01-66fb-4820-8226-e74b0806ba53   \n2   721a054e-0948-4307-bc87-8917535dbd3d   \n3   35310ab7-4128-48db-8ea5-f42b5370c9a0   \n4   cfda5f38-172b-4125-8c48-9f13f6f56fee   \n..                                   ...   \n85  6199b0f7-47dd-47df-afee-38d7e117c788   \n86  8f433bbf-6502-44a5-a41e-54c5e54ff24e   \n87  ae3446b7-184d-4bbf-9637-eb48f2ca4ed6   \n88  8bb60b65-6510-4e98-9ba7-8780de8fb719   \n89  2dd3f160-37ce-4285-be6e-8b7fc6451e00   \n\n                                              context  \\\n0   Dialogue:\\n\\nCoder: Hi there, Programmer! I he...   \n1   Dialogue:\\n\\nCoder: Hi there, Programmer! I he...   \n2   Dialogue:\\n\\nCoder: Hi there, Programmer! I he...   \n3   Dialogue:\\n\\nGolf Blogger: Hello everyone, it'...   \n4   Dialogue:\\n\\nGolf Blogger: Hello everyone, it'...   \n..                                                ...   \n85  Dialogue:\\n\\nEntrepreneur: Hi, mentor. Thank y...   \n86  Dialogue:\\n\\nEntrepreneur: Hi, mentor. Thank y...   \n87  Dialogue:\\n\\nParent: Hi there, sweetie. I want...   \n88  Dialogue:\\n\\nParent: Hi there, sweetie. I want...   \n89  Dialogue:\\n\\nParent: Hi there, sweetie. I want...   \n\n                                                 turn  \\\n0   Coder: Sounds like a good plan! Let's get star...   \n1   Coder: Sounds like a good plan! Let's get star...   \n2   Coder: Sounds like a good plan! Let's get star...   \n3   Golf Blogger: Finally, I want to touch on the ...   \n4   Golf Blogger: Finally, I want to touch on the ...   \n..                                                ...   \n85  Mentor: Of course, happy to help. Tell me more...   \n86  Mentor: Of course, happy to help. Tell me more...   \n87  Parent: I'm so proud of you, sweetie. Remember...   \n88  Parent: I'm so proud of you, sweetie. Remember...   \n89  Parent: I'm so proud of you, sweetie. Remember...   \n\n                                               slot_0 mask_0  \\\n0   Is the following information mentioned, reques...      0   \n1   Is the following information mentioned, reques...      0   \n2   Is the following information mentioned, reques...      0   \n3   Is the following information mentioned, reques...      0   \n4   Is the following information mentioned, reques...      0   \n..                                                ...    ...   \n85  Is the following information mentioned, reques...      0   \n86  Is the following information mentioned, reques...      0   \n87  Is the following information mentioned, reques...      0   \n88  Is the following information mentioned, reques...      0   \n89  Is the following information mentioned, reques...      0   \n\n                                               slot_1 mask_1  \\\n0   Is the following information mentioned, reques...      0   \n1   Is the following information mentioned, reques...      0   \n2   Is the following information mentioned, reques...      0   \n3   Is the following information mentioned, reques...      0   \n4   Is the following information mentioned, reques...      0   \n..                                                ...    ...   \n85  Is the following information mentioned, reques...      0   \n86  Is the following information mentioned, reques...      0   \n87  Is the following information mentioned, reques...      0   \n88  Is the following information mentioned, reques...      0   \n89  Is the following information mentioned, reques...      0   \n\n                                               slot_2  ... slot_8_response  \\\n0                                                      ...                   \n1                                                      ...                   \n2                                                      ...                   \n3   Is the following information mentioned, reques...  ...                   \n4   Is the following information mentioned, reques...  ...                   \n..                                                ...  ...             ...   \n85  Is the following information mentioned, reques...  ...                   \n86  Is the following information mentioned, reques...  ...                   \n87  Is the following information mentioned, reques...  ...                   \n88  Is the following information mentioned, reques...  ...                   \n89  Is the following information mentioned, reques...  ...                   \n\n   slot_9_response slot_10_response slot_11_response slot_12_response  \\\n0                                                                       \n1                                                                       \n2                                                                       \n3                                                                       \n4                                                                       \n..             ...              ...              ...              ...   \n85                                                                      \n86                                                                      \n87                                                                      \n88                                                                      \n89                                                                      \n\n   slot_13_response slot_14_response slot_15_response slot_16_response  \\\n0                                                                        \n1                                                                        \n2                                                                        \n3                                                                        \n4                                                                        \n..              ...              ...              ...              ...   \n85                                                                       \n86                                                                       \n87                                                                       \n88                                                                       \n89                                                                       \n\n   slot_17_response  \n0                    \n1                    \n2                    \n3                    \n4                    \n..              ...  \n85                   \n86                   \n87                   \n88                   \n89                   \n\n[90 rows x 59 columns]",
      "text/html": "<div>\n<style scoped>\n    .dataframe tbody tr th:only-of-type {\n        vertical-align: middle;\n    }\n\n    .dataframe tbody tr th {\n        vertical-align: top;\n    }\n\n    .dataframe thead th {\n        text-align: right;\n    }\n</style>\n<table border=\"1\" class=\"dataframe\">\n  <thead>\n    <tr style=\"text-align: right;\">\n      <th></th>\n      <th>﻿worker_id</th>\n      <th>task_id</th>\n      <th>task_response_id</th>\n      <th>context</th>\n      <th>turn</th>\n      <th>slot_0</th>\n      <th>mask_0</th>\n      <th>slot_1</th>\n      <th>mask_1</th>\n      <th>slot_2</th>\n      <th>...</th>\n      <th>slot_8_response</th>\n      <th>slot_9_response</th>\n      <th>slot_10_response</th>\n      <th>slot_11_response</th>\n      <th>slot_12_response</th>\n      <th>slot_13_response</th>\n      <th>slot_14_response</th>\n      <th>slot_15_response</th>\n      <th>slot_16_response</th>\n      <th>slot_17_response</th>\n    </tr>\n  </thead>\n  <tbody>\n    <tr>\n      <th>0</th>\n      <td>9NZ37A6TMQ47</td>\n      <td>1849ea0f-863d-4e3c-8b45-d09b70d5fd9b</td>\n      <td>51e06029-1ed0-4b50-883c-10ee5ad529c7</td>\n      <td>Dialogue:\\n\\nCoder: Hi there, Programmer! I he...</td>\n      <td>Coder: Sounds like a good plan! Let's get star...</td>\n      <td>Is the following information mentioned, reques...</td>\n      <td>0</td>\n      <td>Is the following information mentioned, reques...</td>\n      <td>0</td>\n      <td></td>\n      <td>...</td>\n      <td></td>\n      <td></td>\n      <td></td>\n      <td></td>\n      <td></td>\n      <td></td>\n      <td></td>\n      <td></td>\n      <td></td>\n      <td></td>\n    </tr>\n    <tr>\n      <th>1</th>\n      <td>6VN9YHVJC7FJ</td>\n      <td>1849ea0f-863d-4e3c-8b45-d09b70d5fd9b</td>\n      <td>2538ab01-66fb-4820-8226-e74b0806ba53</td>\n      <td>Dialogue:\\n\\nCoder: Hi there, Programmer! I he...</td>\n      <td>Coder: Sounds like a good plan! Let's get star...</td>\n      <td>Is the following information mentioned, reques...</td>\n      <td>0</td>\n      <td>Is the following information mentioned, reques...</td>\n      <td>0</td>\n      <td></td>\n      <td>...</td>\n      <td></td>\n      <td></td>\n      <td></td>\n      <td></td>\n      <td></td>\n      <td></td>\n      <td></td>\n      <td></td>\n      <td></td>\n      <td></td>\n    </tr>\n    <tr>\n      <th>2</th>\n      <td>Y2HP9MDFM69W</td>\n      <td>1849ea0f-863d-4e3c-8b45-d09b70d5fd9b</td>\n      <td>721a054e-0948-4307-bc87-8917535dbd3d</td>\n      <td>Dialogue:\\n\\nCoder: Hi there, Programmer! I he...</td>\n      <td>Coder: Sounds like a good plan! Let's get star...</td>\n      <td>Is the following information mentioned, reques...</td>\n      <td>0</td>\n      <td>Is the following information mentioned, reques...</td>\n      <td>0</td>\n      <td></td>\n      <td>...</td>\n      <td></td>\n      <td></td>\n      <td></td>\n      <td></td>\n      <td></td>\n      <td></td>\n      <td></td>\n      <td></td>\n      <td></td>\n      <td></td>\n    </tr>\n    <tr>\n      <th>3</th>\n      <td>VPVDCE66E222</td>\n      <td>24c8a0ab-56c1-4dbb-84cb-31d3e333cf33</td>\n      <td>35310ab7-4128-48db-8ea5-f42b5370c9a0</td>\n      <td>Dialogue:\\n\\nGolf Blogger: Hello everyone, it'...</td>\n      <td>Golf Blogger: Finally, I want to touch on the ...</td>\n      <td>Is the following information mentioned, reques...</td>\n      <td>0</td>\n      <td>Is the following information mentioned, reques...</td>\n      <td>0</td>\n      <td>Is the following information mentioned, reques...</td>\n      <td>...</td>\n      <td></td>\n      <td></td>\n      <td></td>\n      <td></td>\n      <td></td>\n      <td></td>\n      <td></td>\n      <td></td>\n      <td></td>\n      <td></td>\n    </tr>\n    <tr>\n      <th>4</th>\n      <td>TVTQZQFYR2AA</td>\n      <td>24c8a0ab-56c1-4dbb-84cb-31d3e333cf33</td>\n      <td>cfda5f38-172b-4125-8c48-9f13f6f56fee</td>\n      <td>Dialogue:\\n\\nGolf Blogger: Hello everyone, it'...</td>\n      <td>Golf Blogger: Finally, I want to touch on the ...</td>\n      <td>Is the following information mentioned, reques...</td>\n      <td>0</td>\n      <td>Is the following information mentioned, reques...</td>\n      <td>0</td>\n      <td>Is the following information mentioned, reques...</td>\n      <td>...</td>\n      <td></td>\n      <td></td>\n      <td></td>\n      <td></td>\n      <td></td>\n      <td></td>\n      <td></td>\n      <td></td>\n      <td></td>\n      <td></td>\n    </tr>\n    <tr>\n      <th>...</th>\n      <td>...</td>\n      <td>...</td>\n      <td>...</td>\n      <td>...</td>\n      <td>...</td>\n      <td>...</td>\n      <td>...</td>\n      <td>...</td>\n      <td>...</td>\n      <td>...</td>\n      <td>...</td>\n      <td>...</td>\n      <td>...</td>\n      <td>...</td>\n      <td>...</td>\n      <td>...</td>\n      <td>...</td>\n      <td>...</td>\n      <td>...</td>\n      <td>...</td>\n      <td>...</td>\n    </tr>\n    <tr>\n      <th>85</th>\n      <td>FTJXXZJXKCTX</td>\n      <td>f611766c-ce63-45c2-ad5d-782842f570ab</td>\n      <td>6199b0f7-47dd-47df-afee-38d7e117c788</td>\n      <td>Dialogue:\\n\\nEntrepreneur: Hi, mentor. Thank y...</td>\n      <td>Mentor: Of course, happy to help. Tell me more...</td>\n      <td>Is the following information mentioned, reques...</td>\n      <td>0</td>\n      <td>Is the following information mentioned, reques...</td>\n      <td>0</td>\n      <td>Is the following information mentioned, reques...</td>\n      <td>...</td>\n      <td></td>\n      <td></td>\n      <td></td>\n      <td></td>\n      <td></td>\n      <td></td>\n      <td></td>\n      <td></td>\n      <td></td>\n      <td></td>\n    </tr>\n    <tr>\n      <th>86</th>\n      <td>WEQYMQAYFG3C</td>\n      <td>f611766c-ce63-45c2-ad5d-782842f570ab</td>\n      <td>8f433bbf-6502-44a5-a41e-54c5e54ff24e</td>\n      <td>Dialogue:\\n\\nEntrepreneur: Hi, mentor. Thank y...</td>\n      <td>Mentor: Of course, happy to help. Tell me more...</td>\n      <td>Is the following information mentioned, reques...</td>\n      <td>0</td>\n      <td>Is the following information mentioned, reques...</td>\n      <td>0</td>\n      <td>Is the following information mentioned, reques...</td>\n      <td>...</td>\n      <td></td>\n      <td></td>\n      <td></td>\n      <td></td>\n      <td></td>\n      <td></td>\n      <td></td>\n      <td></td>\n      <td></td>\n      <td></td>\n    </tr>\n    <tr>\n      <th>87</th>\n      <td>GZTNGDECWANC</td>\n      <td>fa121f1a-2f74-49e3-9f27-47b456af7e32</td>\n      <td>ae3446b7-184d-4bbf-9637-eb48f2ca4ed6</td>\n      <td>Dialogue:\\n\\nParent: Hi there, sweetie. I want...</td>\n      <td>Parent: I'm so proud of you, sweetie. Remember...</td>\n      <td>Is the following information mentioned, reques...</td>\n      <td>0</td>\n      <td>Is the following information mentioned, reques...</td>\n      <td>0</td>\n      <td>Is the following information mentioned, reques...</td>\n      <td>...</td>\n      <td></td>\n      <td></td>\n      <td></td>\n      <td></td>\n      <td></td>\n      <td></td>\n      <td></td>\n      <td></td>\n      <td></td>\n      <td></td>\n    </tr>\n    <tr>\n      <th>88</th>\n      <td>XR22VMZVFQH2</td>\n      <td>fa121f1a-2f74-49e3-9f27-47b456af7e32</td>\n      <td>8bb60b65-6510-4e98-9ba7-8780de8fb719</td>\n      <td>Dialogue:\\n\\nParent: Hi there, sweetie. I want...</td>\n      <td>Parent: I'm so proud of you, sweetie. Remember...</td>\n      <td>Is the following information mentioned, reques...</td>\n      <td>0</td>\n      <td>Is the following information mentioned, reques...</td>\n      <td>0</td>\n      <td>Is the following information mentioned, reques...</td>\n      <td>...</td>\n      <td></td>\n      <td></td>\n      <td></td>\n      <td></td>\n      <td></td>\n      <td></td>\n      <td></td>\n      <td></td>\n      <td></td>\n      <td></td>\n    </tr>\n    <tr>\n      <th>89</th>\n      <td>VPVDCE66E222</td>\n      <td>fa121f1a-2f74-49e3-9f27-47b456af7e32</td>\n      <td>2dd3f160-37ce-4285-be6e-8b7fc6451e00</td>\n      <td>Dialogue:\\n\\nParent: Hi there, sweetie. I want...</td>\n      <td>Parent: I'm so proud of you, sweetie. Remember...</td>\n      <td>Is the following information mentioned, reques...</td>\n      <td>0</td>\n      <td>Is the following information mentioned, reques...</td>\n      <td>0</td>\n      <td>Is the following information mentioned, reques...</td>\n      <td>...</td>\n      <td></td>\n      <td></td>\n      <td></td>\n      <td></td>\n      <td></td>\n      <td></td>\n      <td></td>\n      <td></td>\n      <td></td>\n      <td></td>\n    </tr>\n  </tbody>\n</table>\n<p>90 rows × 59 columns</p>\n</div>"
     },
     "execution_count": 3,
     "metadata": {},
     "output_type": "execute_result"
    }
   ],
   "source": [
    "round1_file = File('data/quality_check/round1_results.csv')\n",
    "round1 = round1_file.load()\n",
    "round1 = pd.DataFrame.from_records(round1[1:], columns=round1[0])\n",
    "round1"
   ],
   "metadata": {
    "collapsed": false,
    "ExecuteTime": {
     "end_time": "2023-08-10T14:41:38.910591125Z",
     "start_time": "2023-08-10T14:41:38.901061289Z"
    }
   }
  },
  {
   "cell_type": "code",
   "execution_count": 4,
   "outputs": [
    {
     "data": {
      "text/plain": "       ﻿worker_id                               task_id  \\\n0    9NZ37A6TMQ47  1849ea0f-863d-4e3c-8b45-d09b70d5fd9b   \n1    6VN9YHVJC7FJ  1849ea0f-863d-4e3c-8b45-d09b70d5fd9b   \n2    Y2HP9MDFM69W  1849ea0f-863d-4e3c-8b45-d09b70d5fd9b   \n3    VPVDCE66E222  24c8a0ab-56c1-4dbb-84cb-31d3e333cf33   \n4    TVTQZQFYR2AA  24c8a0ab-56c1-4dbb-84cb-31d3e333cf33   \n..            ...                                   ...   \n472  GZTNGDECWANC  6940f5ee-bf67-41c1-999a-7a0af387e941   \n473  WEQYMQAYFG3C  6940f5ee-bf67-41c1-999a-7a0af387e941   \n495  2THNMEDP9HR7  a2aedec0-5d22-41c6-a569-3f4732499776   \n496  ZX2V4GN4AGFA  a2aedec0-5d22-41c6-a569-3f4732499776   \n497  9NZ37A6TMQ47  a2aedec0-5d22-41c6-a569-3f4732499776   \n\n                         task_response_id  \\\n0    51e06029-1ed0-4b50-883c-10ee5ad529c7   \n1    2538ab01-66fb-4820-8226-e74b0806ba53   \n2    721a054e-0948-4307-bc87-8917535dbd3d   \n3    35310ab7-4128-48db-8ea5-f42b5370c9a0   \n4    cfda5f38-172b-4125-8c48-9f13f6f56fee   \n..                                    ...   \n472  7b86325b-4166-49ef-895b-a32b037f2759   \n473  a11080aa-38bf-4853-a03f-57aff0ba3aaf   \n495  89e153ae-b618-4d0b-a200-bc9fe051553f   \n496  1e69e735-c4d4-4926-adc4-4a9ee2ceafaa   \n497  fa51dad3-169b-4f81-bbc9-b058e8e9b540   \n\n                                               context  \\\n0    Dialogue:\\n\\nCoder: Hi there, Programmer! I he...   \n1    Dialogue:\\n\\nCoder: Hi there, Programmer! I he...   \n2    Dialogue:\\n\\nCoder: Hi there, Programmer! I he...   \n3    Dialogue:\\n\\nGolf Blogger: Hello everyone, it'...   \n4    Dialogue:\\n\\nGolf Blogger: Hello everyone, it'...   \n..                                                 ...   \n472  Dialogue:\\n\\nEsthetician: Hi there, welcome to...   \n473  Dialogue:\\n\\nEsthetician: Hi there, welcome to...   \n495  Dialogue:\\n\\nTour Operator: Good morning, trav...   \n496  Dialogue:\\n\\nTour Operator: Good morning, trav...   \n497  Dialogue:\\n\\nTour Operator: Good morning, trav...   \n\n                                                  turn    slot  \\\n0    Coder: Sounds like a good plan! Let's get star...  slot_0   \n1    Coder: Sounds like a good plan! Let's get star...  slot_0   \n2    Coder: Sounds like a good plan! Let's get star...  slot_0   \n3    Golf Blogger: Finally, I want to touch on the ...  slot_0   \n4    Golf Blogger: Finally, I want to touch on the ...  slot_0   \n..                                                 ...     ...   \n472  Esthetician: Absolutely. A healthy diet and li...  slot_5   \n473  Esthetician: Absolutely. A healthy diet and li...  slot_5   \n495  Travel Agent: Who is the target audience for t...  slot_5   \n496  Travel Agent: Who is the target audience for t...  slot_5   \n497  Travel Agent: Who is the target audience for t...  slot_5   \n\n                                              question     correctness  \n0    Is the following information mentioned, reques...        Accurate  \n1    Is the following information mentioned, reques...        Accurate  \n2    Is the following information mentioned, reques...        Accurate  \n3    Is the following information mentioned, reques...        Accurate  \n4    Is the following information mentioned, reques...        Accurate  \n..                                                 ...             ...  \n472  Is the following information mentioned, reques...  Does not apply  \n473  Is the following information mentioned, reques...        Accurate  \n495  Is the following information mentioned, reques...  Does not apply  \n496  Is the following information mentioned, reques...        Accurate  \n497  Is the following information mentioned, reques...        Accurate  \n\n[291 rows x 8 columns]",
      "text/html": "<div>\n<style scoped>\n    .dataframe tbody tr th:only-of-type {\n        vertical-align: middle;\n    }\n\n    .dataframe tbody tr th {\n        vertical-align: top;\n    }\n\n    .dataframe thead th {\n        text-align: right;\n    }\n</style>\n<table border=\"1\" class=\"dataframe\">\n  <thead>\n    <tr style=\"text-align: right;\">\n      <th></th>\n      <th>﻿worker_id</th>\n      <th>task_id</th>\n      <th>task_response_id</th>\n      <th>context</th>\n      <th>turn</th>\n      <th>slot</th>\n      <th>question</th>\n      <th>correctness</th>\n    </tr>\n  </thead>\n  <tbody>\n    <tr>\n      <th>0</th>\n      <td>9NZ37A6TMQ47</td>\n      <td>1849ea0f-863d-4e3c-8b45-d09b70d5fd9b</td>\n      <td>51e06029-1ed0-4b50-883c-10ee5ad529c7</td>\n      <td>Dialogue:\\n\\nCoder: Hi there, Programmer! I he...</td>\n      <td>Coder: Sounds like a good plan! Let's get star...</td>\n      <td>slot_0</td>\n      <td>Is the following information mentioned, reques...</td>\n      <td>Accurate</td>\n    </tr>\n    <tr>\n      <th>1</th>\n      <td>6VN9YHVJC7FJ</td>\n      <td>1849ea0f-863d-4e3c-8b45-d09b70d5fd9b</td>\n      <td>2538ab01-66fb-4820-8226-e74b0806ba53</td>\n      <td>Dialogue:\\n\\nCoder: Hi there, Programmer! I he...</td>\n      <td>Coder: Sounds like a good plan! Let's get star...</td>\n      <td>slot_0</td>\n      <td>Is the following information mentioned, reques...</td>\n      <td>Accurate</td>\n    </tr>\n    <tr>\n      <th>2</th>\n      <td>Y2HP9MDFM69W</td>\n      <td>1849ea0f-863d-4e3c-8b45-d09b70d5fd9b</td>\n      <td>721a054e-0948-4307-bc87-8917535dbd3d</td>\n      <td>Dialogue:\\n\\nCoder: Hi there, Programmer! I he...</td>\n      <td>Coder: Sounds like a good plan! Let's get star...</td>\n      <td>slot_0</td>\n      <td>Is the following information mentioned, reques...</td>\n      <td>Accurate</td>\n    </tr>\n    <tr>\n      <th>3</th>\n      <td>VPVDCE66E222</td>\n      <td>24c8a0ab-56c1-4dbb-84cb-31d3e333cf33</td>\n      <td>35310ab7-4128-48db-8ea5-f42b5370c9a0</td>\n      <td>Dialogue:\\n\\nGolf Blogger: Hello everyone, it'...</td>\n      <td>Golf Blogger: Finally, I want to touch on the ...</td>\n      <td>slot_0</td>\n      <td>Is the following information mentioned, reques...</td>\n      <td>Accurate</td>\n    </tr>\n    <tr>\n      <th>4</th>\n      <td>TVTQZQFYR2AA</td>\n      <td>24c8a0ab-56c1-4dbb-84cb-31d3e333cf33</td>\n      <td>cfda5f38-172b-4125-8c48-9f13f6f56fee</td>\n      <td>Dialogue:\\n\\nGolf Blogger: Hello everyone, it'...</td>\n      <td>Golf Blogger: Finally, I want to touch on the ...</td>\n      <td>slot_0</td>\n      <td>Is the following information mentioned, reques...</td>\n      <td>Accurate</td>\n    </tr>\n    <tr>\n      <th>...</th>\n      <td>...</td>\n      <td>...</td>\n      <td>...</td>\n      <td>...</td>\n      <td>...</td>\n      <td>...</td>\n      <td>...</td>\n      <td>...</td>\n    </tr>\n    <tr>\n      <th>472</th>\n      <td>GZTNGDECWANC</td>\n      <td>6940f5ee-bf67-41c1-999a-7a0af387e941</td>\n      <td>7b86325b-4166-49ef-895b-a32b037f2759</td>\n      <td>Dialogue:\\n\\nEsthetician: Hi there, welcome to...</td>\n      <td>Esthetician: Absolutely. A healthy diet and li...</td>\n      <td>slot_5</td>\n      <td>Is the following information mentioned, reques...</td>\n      <td>Does not apply</td>\n    </tr>\n    <tr>\n      <th>473</th>\n      <td>WEQYMQAYFG3C</td>\n      <td>6940f5ee-bf67-41c1-999a-7a0af387e941</td>\n      <td>a11080aa-38bf-4853-a03f-57aff0ba3aaf</td>\n      <td>Dialogue:\\n\\nEsthetician: Hi there, welcome to...</td>\n      <td>Esthetician: Absolutely. A healthy diet and li...</td>\n      <td>slot_5</td>\n      <td>Is the following information mentioned, reques...</td>\n      <td>Accurate</td>\n    </tr>\n    <tr>\n      <th>495</th>\n      <td>2THNMEDP9HR7</td>\n      <td>a2aedec0-5d22-41c6-a569-3f4732499776</td>\n      <td>89e153ae-b618-4d0b-a200-bc9fe051553f</td>\n      <td>Dialogue:\\n\\nTour Operator: Good morning, trav...</td>\n      <td>Travel Agent: Who is the target audience for t...</td>\n      <td>slot_5</td>\n      <td>Is the following information mentioned, reques...</td>\n      <td>Does not apply</td>\n    </tr>\n    <tr>\n      <th>496</th>\n      <td>ZX2V4GN4AGFA</td>\n      <td>a2aedec0-5d22-41c6-a569-3f4732499776</td>\n      <td>1e69e735-c4d4-4926-adc4-4a9ee2ceafaa</td>\n      <td>Dialogue:\\n\\nTour Operator: Good morning, trav...</td>\n      <td>Travel Agent: Who is the target audience for t...</td>\n      <td>slot_5</td>\n      <td>Is the following information mentioned, reques...</td>\n      <td>Accurate</td>\n    </tr>\n    <tr>\n      <th>497</th>\n      <td>9NZ37A6TMQ47</td>\n      <td>a2aedec0-5d22-41c6-a569-3f4732499776</td>\n      <td>fa51dad3-169b-4f81-bbc9-b058e8e9b540</td>\n      <td>Dialogue:\\n\\nTour Operator: Good morning, trav...</td>\n      <td>Travel Agent: Who is the target audience for t...</td>\n      <td>slot_5</td>\n      <td>Is the following information mentioned, reques...</td>\n      <td>Accurate</td>\n    </tr>\n  </tbody>\n</table>\n<p>291 rows × 8 columns</p>\n</div>"
     },
     "execution_count": 4,
     "metadata": {},
     "output_type": "execute_result"
    }
   ],
   "source": [
    "slotwise_responses = round1.melt(\n",
    "    id_vars=['\\ufeffworker_id', 'task_id', 'task_response_id', 'context', 'turn'],\n",
    "    value_vars=[f'slot_{i}_response' for i in range(17)],\n",
    "    var_name='slot',\n",
    "    value_name='correctness'\n",
    ")\n",
    "slotwise_responses['slot'] = slotwise_responses['slot'].str.replace('_response', '')\n",
    "slotwise_questions = round1.melt(\n",
    "    id_vars=['\\ufeffworker_id', 'task_id', 'task_response_id', 'context', 'turn'],\n",
    "    value_vars=[f'slot_{i}' for i in range(17)],\n",
    "    var_name='slot',\n",
    "    value_name='question'\n",
    ")\n",
    "slotwise = pd.merge(\n",
    "    slotwise_questions,\n",
    "    slotwise_responses,\n",
    "    on=['\\ufeffworker_id', 'task_id', 'task_response_id', 'context', 'turn', 'slot']\n",
    ")\n",
    "slotwise = slotwise[slotwise['correctness'] != '']\n",
    "slotwise"
   ],
   "metadata": {
    "collapsed": false,
    "ExecuteTime": {
     "end_time": "2023-08-10T14:41:38.968921290Z",
     "start_time": "2023-08-10T14:41:38.911853466Z"
    }
   }
  },
  {
   "cell_type": "code",
   "execution_count": 5,
   "outputs": [
    {
     "data": {
      "text/plain": "                                              context  \\\n0                                           Dialogue:   \n1                                           Dialogue:   \n2                                           Dialogue:   \n3                                           Dialogue:   \n4   Dialogue:\\n\\nActor: Hi, wardrobe! I'm here to ...   \n..                                                ...   \n92  Dialogue:\\n\\nTour Operator: Good morning, trav...   \n93  Dialogue:\\n\\nTour Operator: Good morning, trav...   \n94  Dialogue:\\n\\nTour Operator: Good morning, trav...   \n95  Dialogue:\\n\\nTour Operator: Good morning, trav...   \n96  Dialogue:\\n\\nWedding Blogger: Hi there! It's g...   \n\n                                                 turn    slot   majority_vote  \n0   Fitness Blogger: Hey everyone, welcome to my l...  slot_0        Accurate  \n1   Fitness Blogger: Hey everyone, welcome to my l...  slot_1        Accurate  \n2   Fitness Blogger: Hey everyone, welcome to my l...  slot_2        Accurate  \n3   Fitness Blogger: Hey everyone, welcome to my l...  slot_3      Inaccurate  \n4   Wardrobe: No, we'll need to use fabrics that a...  slot_0        Accurate  \n..                                                ...     ...             ...  \n92  Travel Agent: Who is the target audience for t...  slot_2  Does not apply  \n93  Travel Agent: Who is the target audience for t...  slot_3  Does not apply  \n94  Travel Agent: Who is the target audience for t...  slot_4  Does not apply  \n95  Travel Agent: Who is the target audience for t...  slot_5        Accurate  \n96               Bride: Our budget is around $30,000.  slot_0        Accurate  \n\n[97 rows x 4 columns]",
      "text/html": "<div>\n<style scoped>\n    .dataframe tbody tr th:only-of-type {\n        vertical-align: middle;\n    }\n\n    .dataframe tbody tr th {\n        vertical-align: top;\n    }\n\n    .dataframe thead th {\n        text-align: right;\n    }\n</style>\n<table border=\"1\" class=\"dataframe\">\n  <thead>\n    <tr style=\"text-align: right;\">\n      <th></th>\n      <th>context</th>\n      <th>turn</th>\n      <th>slot</th>\n      <th>majority_vote</th>\n    </tr>\n  </thead>\n  <tbody>\n    <tr>\n      <th>0</th>\n      <td>Dialogue:</td>\n      <td>Fitness Blogger: Hey everyone, welcome to my l...</td>\n      <td>slot_0</td>\n      <td>Accurate</td>\n    </tr>\n    <tr>\n      <th>1</th>\n      <td>Dialogue:</td>\n      <td>Fitness Blogger: Hey everyone, welcome to my l...</td>\n      <td>slot_1</td>\n      <td>Accurate</td>\n    </tr>\n    <tr>\n      <th>2</th>\n      <td>Dialogue:</td>\n      <td>Fitness Blogger: Hey everyone, welcome to my l...</td>\n      <td>slot_2</td>\n      <td>Accurate</td>\n    </tr>\n    <tr>\n      <th>3</th>\n      <td>Dialogue:</td>\n      <td>Fitness Blogger: Hey everyone, welcome to my l...</td>\n      <td>slot_3</td>\n      <td>Inaccurate</td>\n    </tr>\n    <tr>\n      <th>4</th>\n      <td>Dialogue:\\n\\nActor: Hi, wardrobe! I'm here to ...</td>\n      <td>Wardrobe: No, we'll need to use fabrics that a...</td>\n      <td>slot_0</td>\n      <td>Accurate</td>\n    </tr>\n    <tr>\n      <th>...</th>\n      <td>...</td>\n      <td>...</td>\n      <td>...</td>\n      <td>...</td>\n    </tr>\n    <tr>\n      <th>92</th>\n      <td>Dialogue:\\n\\nTour Operator: Good morning, trav...</td>\n      <td>Travel Agent: Who is the target audience for t...</td>\n      <td>slot_2</td>\n      <td>Does not apply</td>\n    </tr>\n    <tr>\n      <th>93</th>\n      <td>Dialogue:\\n\\nTour Operator: Good morning, trav...</td>\n      <td>Travel Agent: Who is the target audience for t...</td>\n      <td>slot_3</td>\n      <td>Does not apply</td>\n    </tr>\n    <tr>\n      <th>94</th>\n      <td>Dialogue:\\n\\nTour Operator: Good morning, trav...</td>\n      <td>Travel Agent: Who is the target audience for t...</td>\n      <td>slot_4</td>\n      <td>Does not apply</td>\n    </tr>\n    <tr>\n      <th>95</th>\n      <td>Dialogue:\\n\\nTour Operator: Good morning, trav...</td>\n      <td>Travel Agent: Who is the target audience for t...</td>\n      <td>slot_5</td>\n      <td>Accurate</td>\n    </tr>\n    <tr>\n      <th>96</th>\n      <td>Dialogue:\\n\\nWedding Blogger: Hi there! It's g...</td>\n      <td>Bride: Our budget is around $30,000.</td>\n      <td>slot_0</td>\n      <td>Accurate</td>\n    </tr>\n  </tbody>\n</table>\n<p>97 rows × 4 columns</p>\n</div>"
     },
     "execution_count": 5,
     "metadata": {},
     "output_type": "execute_result"
    }
   ],
   "source": [
    "def vote(annotations):\n",
    "    votes = annotations['correctness']\n",
    "    counts = {}\n",
    "    for vote in votes:\n",
    "        counts[vote] = counts.get(vote, 0) + 1\n",
    "    majority = max(counts, key=counts.get)\n",
    "    if counts[majority] > 1:\n",
    "        return majority\n",
    "    else:\n",
    "        return 'Disagreement'\n",
    "\n",
    "majority_vote = slotwise.groupby([\n",
    "    'context', 'turn', 'slot'\n",
    "]).apply(\n",
    "    vote\n",
    ").reset_index(\n",
    "    name='majority_vote'\n",
    ")\n",
    "majority_vote"
   ],
   "metadata": {
    "collapsed": false,
    "ExecuteTime": {
     "end_time": "2023-08-10T14:41:39.025764779Z",
     "start_time": "2023-08-10T14:41:38.962216545Z"
    }
   }
  },
  {
   "cell_type": "code",
   "execution_count": 6,
   "outputs": [
    {
     "name": "stdout",
     "output_type": "stream",
     "text": [
      "Good: 83, Bad: 14, Total: 97, Proportion of good slots: 0.8556701030927835\n"
     ]
    },
    {
     "data": {
      "text/plain": "majority_vote\nAccurate          83\nDoes not apply     7\nInaccurate         5\nDisagreement       2\nName: count, dtype: int64"
     },
     "execution_count": 6,
     "metadata": {},
     "output_type": "execute_result"
    }
   ],
   "source": [
    "counts = majority_vote['majority_vote'].value_counts()\n",
    "good = counts['Accurate']\n",
    "bad = counts['Inaccurate'] + counts['Disagreement'] + counts['Does not apply']\n",
    "print(f'Good: {good}, Bad: {bad}, Total: {good + bad}, Proportion of good slots: {good / (good + bad)}')\n",
    "counts"
   ],
   "metadata": {
    "collapsed": false,
    "ExecuteTime": {
     "end_time": "2023-08-10T14:41:39.043671994Z",
     "start_time": "2023-08-10T14:41:39.020178008Z"
    }
   }
  },
  {
   "cell_type": "code",
   "execution_count": 7,
   "outputs": [
    {
     "data": {
      "text/plain": "                                              context  \\\n0                                           Dialogue:   \n1   Dialogue:\\n\\nActor: Hi, wardrobe! I'm here to ...   \n2   Dialogue:\\n\\nAdoption Agency Worker: Hello, we...   \n3   Dialogue:\\n\\nArt Director: Hi there, I am look...   \n4   Dialogue:\\n\\nBusiness Owner (BO): Hello, thank...   \n5   Dialogue:\\n\\nCake decorator: Hello, how can I ...   \n6   Dialogue:\\n\\nCaretaker: Good morning, Mr. John...   \n7   Dialogue:\\n\\nChild: “Hey, Sophie! What are you...   \n8   Dialogue:\\n\\nCo-worker: Hi, can we talk for a ...   \n9   Dialogue:\\n\\nCoder: Hi there, Programmer! I he...   \n10  Dialogue:\\n\\nCourt Reporter: Good morning, Mr....   \n11  Dialogue:\\n\\nDeveloper: Good afternoon, Ms. Jo...   \n12  Dialogue:\\n\\nEntrepreneur: Hi, mentor. Thank y...   \n13  Dialogue:\\n\\nEsthetician: Hi there, welcome to...   \n14  Dialogue:\\n\\nGolf Blogger: Hello everyone, it'...   \n15  Dialogue:\\n\\nHair Stylist: Hi there, I was int...   \n16  Dialogue:\\n\\nHair Stylist: Hi, I'm Sarah and I...   \n17  Dialogue:\\n\\nHomeowner: Hi there, I'm having s...   \n18  Dialogue:\\n\\nHomeowner: Hi there, I'm interest...   \n19  Dialogue:\\n\\nHomeowner: Hi, I need to file a c...   \n20  Dialogue:\\n\\nModerator: Good morning everyone ...   \n21  Dialogue:\\n\\nOncologist (Dr. Lee): Good mornin...   \n22  Dialogue:\\n\\nParent: Hi there, sweetie. I want...   \n23  Dialogue:\\n\\nParent: Hi, I'd like to schedule ...   \n24  Dialogue:\\n\\nRestaurant Manager: Alright team,...   \n25  Dialogue:\\n\\nShopper: Excuse me, do you have t...   \n26  Dialogue:\\n\\nStudent: Hi Professor Smith, I wa...   \n27  Dialogue:\\n\\nTeacher: Hi, I am excited to talk...   \n28  Dialogue:\\n\\nTour Operator: Good morning, trav...   \n29  Dialogue:\\n\\nWedding Blogger: Hi there! It's g...   \n\n                                                 turn  turn_majority_vote  \n0   Fitness Blogger: Hey everyone, welcome to my l...                   0  \n1   Wardrobe: No, we'll need to use fabrics that a...                   1  \n2   Prospective Adoptive Parents: We’re also curio...                   1  \n3   Artist: Sounds good. We'll get down to work ri...                   0  \n4   BO: I have extensive experience in the tech in...                   1  \n5           Customer: I have about $150 to work with.                   1  \n6           Patient: How long will I need to take it?                   1  \n7   Sophie: “Good point. Oh, and I’m sorry but I a...                   1  \n8   Co-worker: Will do. Thanks again, I really app...                   0  \n9   Coder: Sounds like a good plan! Let's get star...                   1  \n10  Court Reporter: I'll make sure to note those a...                   1  \n11  Stakeholder: Of course, thank you for having m...                   0  \n12  Mentor: Of course, happy to help. Tell me more...                   1  \n13  Esthetician: Absolutely. A healthy diet and li...                   1  \n14  Golf Blogger: Finally, I want to touch on the ...                   1  \n15  Salon Owner: Yes, the booth comes equipped wit...                   1  \n16  Makeup Artist: Perfect. Now, what's the desire...                   1  \n17  Electrician: Well, anytime there's an issue wi...                   1  \n18  Carpenter: Certainly. Do you have a budget in ...                   1  \n19  Homeowner: It's pretty bad, the whole back end...                   1  \n20  Moderator: Excellent examples, Samantha. What ...                   0  \n21  Dr. Lee: I see that you were diagnosed with St...                   1  \n22  Parent: I'm so proud of you, sweetie. Remember...                   1  \n23  Pediatrician: Perfect. During the appointment,...                   1  \n24  Kitchen Staff: Ok. And what's the schedule of ...                   1  \n25  Sales Associate: It's made of 100% polyester a...                   1  \n26  Student: Okay, thank you for all the advice Pr...                   0  \n27  Teacher: What training and professional develo...                   0  \n28  Travel Agent: Who is the target audience for t...                   0  \n29               Bride: Our budget is around $30,000.                   1  ",
      "text/html": "<div>\n<style scoped>\n    .dataframe tbody tr th:only-of-type {\n        vertical-align: middle;\n    }\n\n    .dataframe tbody tr th {\n        vertical-align: top;\n    }\n\n    .dataframe thead th {\n        text-align: right;\n    }\n</style>\n<table border=\"1\" class=\"dataframe\">\n  <thead>\n    <tr style=\"text-align: right;\">\n      <th></th>\n      <th>context</th>\n      <th>turn</th>\n      <th>turn_majority_vote</th>\n    </tr>\n  </thead>\n  <tbody>\n    <tr>\n      <th>0</th>\n      <td>Dialogue:</td>\n      <td>Fitness Blogger: Hey everyone, welcome to my l...</td>\n      <td>0</td>\n    </tr>\n    <tr>\n      <th>1</th>\n      <td>Dialogue:\\n\\nActor: Hi, wardrobe! I'm here to ...</td>\n      <td>Wardrobe: No, we'll need to use fabrics that a...</td>\n      <td>1</td>\n    </tr>\n    <tr>\n      <th>2</th>\n      <td>Dialogue:\\n\\nAdoption Agency Worker: Hello, we...</td>\n      <td>Prospective Adoptive Parents: We’re also curio...</td>\n      <td>1</td>\n    </tr>\n    <tr>\n      <th>3</th>\n      <td>Dialogue:\\n\\nArt Director: Hi there, I am look...</td>\n      <td>Artist: Sounds good. We'll get down to work ri...</td>\n      <td>0</td>\n    </tr>\n    <tr>\n      <th>4</th>\n      <td>Dialogue:\\n\\nBusiness Owner (BO): Hello, thank...</td>\n      <td>BO: I have extensive experience in the tech in...</td>\n      <td>1</td>\n    </tr>\n    <tr>\n      <th>5</th>\n      <td>Dialogue:\\n\\nCake decorator: Hello, how can I ...</td>\n      <td>Customer: I have about $150 to work with.</td>\n      <td>1</td>\n    </tr>\n    <tr>\n      <th>6</th>\n      <td>Dialogue:\\n\\nCaretaker: Good morning, Mr. John...</td>\n      <td>Patient: How long will I need to take it?</td>\n      <td>1</td>\n    </tr>\n    <tr>\n      <th>7</th>\n      <td>Dialogue:\\n\\nChild: “Hey, Sophie! What are you...</td>\n      <td>Sophie: “Good point. Oh, and I’m sorry but I a...</td>\n      <td>1</td>\n    </tr>\n    <tr>\n      <th>8</th>\n      <td>Dialogue:\\n\\nCo-worker: Hi, can we talk for a ...</td>\n      <td>Co-worker: Will do. Thanks again, I really app...</td>\n      <td>0</td>\n    </tr>\n    <tr>\n      <th>9</th>\n      <td>Dialogue:\\n\\nCoder: Hi there, Programmer! I he...</td>\n      <td>Coder: Sounds like a good plan! Let's get star...</td>\n      <td>1</td>\n    </tr>\n    <tr>\n      <th>10</th>\n      <td>Dialogue:\\n\\nCourt Reporter: Good morning, Mr....</td>\n      <td>Court Reporter: I'll make sure to note those a...</td>\n      <td>1</td>\n    </tr>\n    <tr>\n      <th>11</th>\n      <td>Dialogue:\\n\\nDeveloper: Good afternoon, Ms. Jo...</td>\n      <td>Stakeholder: Of course, thank you for having m...</td>\n      <td>0</td>\n    </tr>\n    <tr>\n      <th>12</th>\n      <td>Dialogue:\\n\\nEntrepreneur: Hi, mentor. Thank y...</td>\n      <td>Mentor: Of course, happy to help. Tell me more...</td>\n      <td>1</td>\n    </tr>\n    <tr>\n      <th>13</th>\n      <td>Dialogue:\\n\\nEsthetician: Hi there, welcome to...</td>\n      <td>Esthetician: Absolutely. A healthy diet and li...</td>\n      <td>1</td>\n    </tr>\n    <tr>\n      <th>14</th>\n      <td>Dialogue:\\n\\nGolf Blogger: Hello everyone, it'...</td>\n      <td>Golf Blogger: Finally, I want to touch on the ...</td>\n      <td>1</td>\n    </tr>\n    <tr>\n      <th>15</th>\n      <td>Dialogue:\\n\\nHair Stylist: Hi there, I was int...</td>\n      <td>Salon Owner: Yes, the booth comes equipped wit...</td>\n      <td>1</td>\n    </tr>\n    <tr>\n      <th>16</th>\n      <td>Dialogue:\\n\\nHair Stylist: Hi, I'm Sarah and I...</td>\n      <td>Makeup Artist: Perfect. Now, what's the desire...</td>\n      <td>1</td>\n    </tr>\n    <tr>\n      <th>17</th>\n      <td>Dialogue:\\n\\nHomeowner: Hi there, I'm having s...</td>\n      <td>Electrician: Well, anytime there's an issue wi...</td>\n      <td>1</td>\n    </tr>\n    <tr>\n      <th>18</th>\n      <td>Dialogue:\\n\\nHomeowner: Hi there, I'm interest...</td>\n      <td>Carpenter: Certainly. Do you have a budget in ...</td>\n      <td>1</td>\n    </tr>\n    <tr>\n      <th>19</th>\n      <td>Dialogue:\\n\\nHomeowner: Hi, I need to file a c...</td>\n      <td>Homeowner: It's pretty bad, the whole back end...</td>\n      <td>1</td>\n    </tr>\n    <tr>\n      <th>20</th>\n      <td>Dialogue:\\n\\nModerator: Good morning everyone ...</td>\n      <td>Moderator: Excellent examples, Samantha. What ...</td>\n      <td>0</td>\n    </tr>\n    <tr>\n      <th>21</th>\n      <td>Dialogue:\\n\\nOncologist (Dr. Lee): Good mornin...</td>\n      <td>Dr. Lee: I see that you were diagnosed with St...</td>\n      <td>1</td>\n    </tr>\n    <tr>\n      <th>22</th>\n      <td>Dialogue:\\n\\nParent: Hi there, sweetie. I want...</td>\n      <td>Parent: I'm so proud of you, sweetie. Remember...</td>\n      <td>1</td>\n    </tr>\n    <tr>\n      <th>23</th>\n      <td>Dialogue:\\n\\nParent: Hi, I'd like to schedule ...</td>\n      <td>Pediatrician: Perfect. During the appointment,...</td>\n      <td>1</td>\n    </tr>\n    <tr>\n      <th>24</th>\n      <td>Dialogue:\\n\\nRestaurant Manager: Alright team,...</td>\n      <td>Kitchen Staff: Ok. And what's the schedule of ...</td>\n      <td>1</td>\n    </tr>\n    <tr>\n      <th>25</th>\n      <td>Dialogue:\\n\\nShopper: Excuse me, do you have t...</td>\n      <td>Sales Associate: It's made of 100% polyester a...</td>\n      <td>1</td>\n    </tr>\n    <tr>\n      <th>26</th>\n      <td>Dialogue:\\n\\nStudent: Hi Professor Smith, I wa...</td>\n      <td>Student: Okay, thank you for all the advice Pr...</td>\n      <td>0</td>\n    </tr>\n    <tr>\n      <th>27</th>\n      <td>Dialogue:\\n\\nTeacher: Hi, I am excited to talk...</td>\n      <td>Teacher: What training and professional develo...</td>\n      <td>0</td>\n    </tr>\n    <tr>\n      <th>28</th>\n      <td>Dialogue:\\n\\nTour Operator: Good morning, trav...</td>\n      <td>Travel Agent: Who is the target audience for t...</td>\n      <td>0</td>\n    </tr>\n    <tr>\n      <th>29</th>\n      <td>Dialogue:\\n\\nWedding Blogger: Hi there! It's g...</td>\n      <td>Bride: Our budget is around $30,000.</td>\n      <td>1</td>\n    </tr>\n  </tbody>\n</table>\n</div>"
     },
     "execution_count": 7,
     "metadata": {},
     "output_type": "execute_result"
    }
   ],
   "source": [
    "def aggregate_turn_majorities(majorities):\n",
    "    if all(majority == 'Accurate' for majority in majorities['majority_vote']):\n",
    "        return 1\n",
    "    else:\n",
    "        return 0\n",
    "\n",
    "turn_majority_vote = majority_vote.groupby([\n",
    "    'context', 'turn'\n",
    "]).apply(\n",
    "    aggregate_turn_majorities\n",
    ").reset_index(\n",
    "    name='turn_majority_vote'\n",
    ")\n",
    "turn_majority_vote"
   ],
   "metadata": {
    "collapsed": false,
    "ExecuteTime": {
     "end_time": "2023-08-10T14:41:39.043942034Z",
     "start_time": "2023-08-10T14:41:39.043477374Z"
    }
   }
  },
  {
   "cell_type": "code",
   "execution_count": 8,
   "outputs": [
    {
     "name": "stdout",
     "output_type": "stream",
     "text": [
      "Proportion of good turns: 0.7333333333333333\n"
     ]
    }
   ],
   "source": [
    "print(f'Proportion of good turns: {turn_majority_vote[\"turn_majority_vote\"].mean()}')"
   ],
   "metadata": {
    "collapsed": false,
    "ExecuteTime": {
     "end_time": "2023-08-10T14:41:39.108446776Z",
     "start_time": "2023-08-10T14:41:39.043825850Z"
    }
   }
  },
  {
   "cell_type": "code",
   "execution_count": 13,
   "outputs": [
    {
     "data": {
      "text/plain": "[('0', '0', 'Accurate'),\n ('1', '0', 'Accurate'),\n ('2', '0', 'Accurate'),\n ('0', '1', 'Accurate'),\n ('1', '1', 'Accurate'),\n ('2', '1', 'Accurate'),\n ('0', '2', 'Accurate'),\n ('1', '2', 'Accurate'),\n ('2', '2', 'Accurate'),\n ('0', '3', 'Accurate'),\n ('1', '3', 'Accurate'),\n ('2', '3', 'Accurate'),\n ('0', '4', 'Accurate'),\n ('1', '4', 'Accurate'),\n ('2', '4', 'Accurate'),\n ('0', '5', 'Accurate'),\n ('1', '5', 'Accurate'),\n ('2', '5', 'Accurate'),\n ('0', '6', 'Accurate'),\n ('1', '6', 'Accurate'),\n ('2', '6', 'Accurate'),\n ('0', '7', 'Accurate'),\n ('1', '7', 'Accurate'),\n ('2', '7', 'Accurate'),\n ('0', '8', 'Accurate'),\n ('1', '8', 'Does not apply'),\n ('2', '8', 'Accurate'),\n ('0', '9', 'Accurate'),\n ('1', '9', 'Accurate'),\n ('2', '9', 'Accurate'),\n ('0', '10', 'Accurate'),\n ('1', '10', 'Accurate'),\n ('2', '10', 'Accurate'),\n ('0', '11', 'Accurate'),\n ('1', '11', 'Accurate'),\n ('2', '11', 'Accurate'),\n ('0', '12', 'Accurate'),\n ('1', '12', 'Accurate'),\n ('2', '12', 'Accurate'),\n ('0', '13', 'Accurate'),\n ('1', '13', 'Accurate'),\n ('2', '13', 'Accurate'),\n ('0', '14', 'Accurate'),\n ('1', '14', 'Accurate'),\n ('2', '14', 'Accurate'),\n ('0', '15', 'Does not apply'),\n ('1', '15', 'Does not apply'),\n ('2', '15', 'Does not apply'),\n ('0', '16', 'Accurate'),\n ('1', '16', 'Accurate'),\n ('2', '16', 'Accurate'),\n ('0', '17', 'Accurate'),\n ('1', '17', 'Accurate'),\n ('2', '17', 'Does not apply'),\n ('0', '18', 'Accurate'),\n ('1', '18', 'Accurate'),\n ('2', '18', 'Accurate'),\n ('0', '19', 'Accurate'),\n ('1', '19', 'Inaccurate'),\n ('2', '19', 'Accurate'),\n ('0', '20', 'Accurate'),\n ('1', '20', 'Accurate'),\n ('2', '20', 'Accurate'),\n ('0', '21', 'Accurate'),\n ('1', '21', 'Accurate'),\n ('2', '21', 'Accurate'),\n ('0', '22', 'Accurate'),\n ('1', '22', 'Accurate'),\n ('2', '22', 'Accurate'),\n ('0', '23', 'Accurate'),\n ('1', '23', 'Accurate'),\n ('2', '23', 'Accurate'),\n ('0', '24', 'Accurate'),\n ('1', '24', 'Accurate'),\n ('2', '24', 'Accurate'),\n ('0', '25', 'Does not apply'),\n ('1', '25', 'Accurate'),\n ('2', '25', 'Accurate'),\n ('0', '26', 'Accurate'),\n ('1', '26', 'Accurate'),\n ('2', '26', 'Accurate'),\n ('0', '27', 'Accurate'),\n ('1', '27', 'Accurate'),\n ('2', '27', 'Accurate'),\n ('0', '28', 'Accurate'),\n ('1', '28', 'Inaccurate'),\n ('2', '28', 'Accurate'),\n ('0', '29', 'Accurate'),\n ('1', '29', 'Accurate'),\n ('2', '29', 'Accurate'),\n ('0', '30', 'Accurate'),\n ('1', '30', 'Accurate'),\n ('2', '30', 'Accurate'),\n ('0', '31', 'Accurate'),\n ('1', '31', 'Accurate'),\n ('2', '31', 'Accurate'),\n ('0', '32', 'Accurate'),\n ('1', '32', 'Accurate'),\n ('2', '32', 'Accurate'),\n ('0', '33', 'Accurate'),\n ('1', '33', 'Accurate'),\n ('2', '33', 'Accurate'),\n ('0', '34', 'Accurate'),\n ('1', '34', 'Accurate'),\n ('2', '34', 'Accurate'),\n ('0', '35', 'Accurate'),\n ('1', '35', 'Accurate'),\n ('2', '35', 'Accurate'),\n ('0', '36', 'Accurate'),\n ('1', '36', 'Does not apply'),\n ('2', '36', 'Accurate'),\n ('0', '37', 'Accurate'),\n ('1', '37', 'Accurate'),\n ('2', '37', 'Accurate'),\n ('0', '38', 'Accurate'),\n ('1', '38', 'Accurate'),\n ('2', '38', 'Accurate'),\n ('0', '39', 'Accurate'),\n ('1', '39', 'Accurate'),\n ('2', '39', 'Accurate'),\n ('0', '40', 'Accurate'),\n ('1', '40', 'Accurate'),\n ('2', '40', 'Accurate'),\n ('0', '41', 'Accurate'),\n ('1', '41', 'Accurate'),\n ('2', '41', 'Accurate'),\n ('0', '42', 'Accurate'),\n ('1', '42', 'Accurate'),\n ('2', '42', 'Accurate'),\n ('0', '43', 'Does not apply'),\n ('1', '43', 'Does not apply'),\n ('2', '43', 'Does not apply'),\n ('0', '44', 'Accurate'),\n ('1', '44', 'Accurate'),\n ('2', '44', 'Accurate'),\n ('0', '45', 'Accurate'),\n ('1', '45', 'Accurate'),\n ('2', '45', 'Does not apply'),\n ('0', '46', 'Accurate'),\n ('1', '46', 'Accurate'),\n ('2', '46', 'Accurate'),\n ('0', '47', 'Accurate'),\n ('1', '47', 'Accurate'),\n ('2', '47', 'Accurate'),\n ('0', '48', 'Accurate'),\n ('1', '48', 'Accurate'),\n ('2', '48', 'Accurate'),\n ('0', '49', 'Accurate'),\n ('1', '49', 'Accurate'),\n ('2', '49', 'Accurate'),\n ('0', '50', 'Inaccurate'),\n ('1', '50', 'Inaccurate'),\n ('2', '50', 'Accurate'),\n ('0', '51', 'Accurate'),\n ('1', '51', 'Accurate'),\n ('2', '51', 'Accurate'),\n ('0', '52', 'Accurate'),\n ('1', '52', 'Does not apply'),\n ('2', '52', 'Accurate'),\n ('0', '53', 'Accurate'),\n ('1', '53', 'Accurate'),\n ('2', '53', 'Accurate'),\n ('0', '54', 'Accurate'),\n ('1', '54', 'Accurate'),\n ('2', '54', 'Accurate'),\n ('0', '55', 'Inaccurate'),\n ('1', '55', 'Accurate'),\n ('2', '55', 'Accurate'),\n ('0', '56', 'Accurate'),\n ('1', '56', 'Accurate'),\n ('2', '56', 'Accurate'),\n ('0', '57', 'Accurate'),\n ('1', '57', 'Accurate'),\n ('2', '57', 'Accurate'),\n ('0', '58', 'Accurate'),\n ('1', '58', 'Accurate'),\n ('2', '58', 'Accurate'),\n ('0', '59', 'Inaccurate'),\n ('1', '59', 'Accurate'),\n ('2', '59', 'Inaccurate'),\n ('0', '60', 'Accurate'),\n ('1', '60', 'Accurate'),\n ('2', '60', 'Accurate'),\n ('0', '61', 'Accurate'),\n ('1', '61', 'Accurate'),\n ('2', '61', 'Accurate'),\n ('0', '62', 'Accurate'),\n ('1', '62', 'Accurate'),\n ('2', '62', 'Accurate'),\n ('0', '63', 'Accurate'),\n ('1', '63', 'Accurate'),\n ('2', '63', 'Inaccurate'),\n ('0', '64', 'Does not apply'),\n ('1', '64', 'Does not apply'),\n ('2', '64', 'Does not apply'),\n ('0', '65', 'Accurate'),\n ('1', '65', 'Accurate'),\n ('2', '65', 'Accurate'),\n ('0', '66', 'Accurate'),\n ('1', '66', 'Accurate'),\n ('2', '66', 'Accurate'),\n ('0', '67', 'Inaccurate'),\n ('1', '67', 'Accurate'),\n ('2', '67', 'Inaccurate'),\n ('0', '68', 'Accurate'),\n ('1', '68', 'Accurate'),\n ('2', '68', 'Accurate'),\n ('0', '69', 'Accurate'),\n ('1', '69', 'Accurate'),\n ('2', '69', 'Accurate'),\n ('0', '70', 'Inaccurate'),\n ('1', '70', 'Does not apply'),\n ('2', '70', 'Accurate'),\n ('0', '71', 'Accurate'),\n ('1', '71', 'Accurate'),\n ('2', '71', 'Accurate'),\n ('0', '72', 'Accurate'),\n ('1', '72', 'Accurate'),\n ('2', '72', 'Accurate'),\n ('0', '73', 'Accurate'),\n ('1', '73', 'Accurate'),\n ('2', '73', 'Accurate'),\n ('0', '74', 'Accurate'),\n ('1', '74', 'Accurate'),\n ('2', '74', 'Accurate'),\n ('0', '75', 'Accurate'),\n ('1', '75', 'Inaccurate'),\n ('2', '75', 'Accurate'),\n ('0', '76', 'Inaccurate'),\n ('1', '76', 'Does not apply'),\n ('2', '76', 'Accurate'),\n ('0', '77', 'Accurate'),\n ('1', '77', 'Accurate'),\n ('2', '77', 'Accurate'),\n ('0', '78', 'Does not apply'),\n ('1', '78', 'Does not apply'),\n ('2', '78', 'Does not apply'),\n ('0', '79', 'Inaccurate'),\n ('1', '79', 'Does not apply'),\n ('2', '79', 'Inaccurate'),\n ('0', '80', 'Does not apply'),\n ('1', '80', 'Does not apply'),\n ('2', '80', 'Does not apply'),\n ('0', '81', 'Accurate'),\n ('1', '81', 'Accurate'),\n ('2', '81', 'Accurate'),\n ('0', '82', 'Inaccurate'),\n ('1', '82', 'Inaccurate'),\n ('2', '82', 'Inaccurate'),\n ('0', '83', 'Accurate'),\n ('1', '83', 'Accurate'),\n ('2', '83', 'Inaccurate'),\n ('0', '84', 'Accurate'),\n ('1', '84', 'Does not apply'),\n ('2', '84', 'Accurate'),\n ('0', '85', 'Accurate'),\n ('1', '85', 'Accurate'),\n ('2', '85', 'Accurate'),\n ('0', '86', 'Accurate'),\n ('1', '86', 'Accurate'),\n ('2', '86', 'Accurate'),\n ('0', '87', 'Accurate'),\n ('1', '87', 'Accurate'),\n ('2', '87', 'Accurate'),\n ('0', '88', 'Accurate'),\n ('1', '88', 'Inaccurate'),\n ('2', '88', 'Accurate'),\n ('0', '89', 'Accurate'),\n ('1', '89', 'Accurate'),\n ('2', '89', 'Accurate'),\n ('0', '90', 'Does not apply'),\n ('1', '90', 'Does not apply'),\n ('2', '90', 'Does not apply'),\n ('0', '91', 'Does not apply'),\n ('1', '91', 'Does not apply'),\n ('2', '91', 'Does not apply'),\n ('0', '92', 'Accurate'),\n ('1', '92', 'Accurate'),\n ('2', '92', 'Accurate'),\n ('0', '93', 'Accurate'),\n ('1', '93', 'Accurate'),\n ('2', '93', 'Accurate'),\n ('0', '94', 'Inaccurate'),\n ('1', '94', 'Accurate'),\n ('2', '94', 'Accurate'),\n ('0', '95', 'Accurate'),\n ('1', '95', 'Does not apply'),\n ('2', '95', 'Accurate'),\n ('0', '96', 'Does not apply'),\n ('1', '96', 'Accurate'),\n ('2', '96', 'Accurate')]"
     },
     "execution_count": 13,
     "metadata": {},
     "output_type": "execute_result"
    }
   ],
   "source": [
    "def judgements_from_df(df):\n",
    "    items = {}\n",
    "    for worker_id, context, turn, question, correctness in df[[\n",
    "        '\\ufeffworker_id', 'context', 'turn', 'question', 'correctness'\n",
    "    ]].values:\n",
    "        key = (context, turn, question)\n",
    "        if key not in items:\n",
    "            items[key] = []\n",
    "        items[key].append((len(items[key]), correctness))\n",
    "\n",
    "    judgements = [\n",
    "        (str(worker_id), str(i), str(correctness))\n",
    "        for i, labels in enumerate(items.values())\n",
    "        for worker_id, correctness in labels\n",
    "    ]\n",
    "    return judgements\n",
    "\n",
    "judgements = judgements_from_df(slotwise)\n",
    "binary_judgements = [(worker_id, i, correctness == 'Accurate') for worker_id, i, correctness in judgements]\n",
    "judgements"
   ],
   "metadata": {
    "collapsed": false,
    "ExecuteTime": {
     "end_time": "2023-08-10T14:43:31.464286403Z",
     "start_time": "2023-08-10T14:43:31.459045942Z"
    }
   }
  },
  {
   "cell_type": "code",
   "execution_count": 15,
   "outputs": [
    {
     "name": "stdout",
     "output_type": "stream",
     "text": [
      "krippendorfs_alpha(judgements) = krippendorff's alpha     0.484101\n",
      "CI 5%                    0.412194\n",
      "CI 95%                   0.466983\n",
      "N                       97.000000\n",
      "dtype: float64\n",
      "krippendorfs_alpha(binary_judgements) = krippendorff's alpha     0.501485\n",
      "CI 5%                    0.458682\n",
      "CI 95%                   0.471579\n",
      "N                       97.000000\n",
      "dtype: float64\n",
      "naive_agreement(binary_judgements) = 0.7731958762886598\n"
     ]
    }
   ],
   "source": [
    "from nltk.metrics.agreement import AnnotationTask\n",
    "from scipy.stats import bootstrap as scipy_bootstrap\n",
    "\n",
    "def naive_agreement(judgements):\n",
    "    grouped_by_item = {}\n",
    "    for worker_id, item, label in judgements:\n",
    "        grouped_by_item.setdefault(item, []).append(label)\n",
    "    return sum(\n",
    "        all(label == grouped_by_item[item][0] for label in grouped_by_item[item])\n",
    "        for item in grouped_by_item\n",
    "    ) / len(grouped_by_item)\n",
    "\n",
    "\n",
    "def bootstrap_ci(data, statistic_fn, n_resamples=10**3):\n",
    "    wrapped_data = [dict(point=d) for d in data]\n",
    "    statistic_fn_wrapper = lambda ds: statistic_fn([d['point'] for d in ds])\n",
    "    result = scipy_bootstrap((wrapped_data,), statistic_fn_wrapper, vectorized=False, n_resamples=n_resamples)\n",
    "    return result.confidence_interval\n",
    "\n",
    "def krippendorfs_alpha(items, ci=True):\n",
    "    \"\"\"\n",
    "    :param items: list of (worker_id, item_id, label)\n",
    "    :param ci: bool: whether to compute confidence interval\n",
    "    :return:\n",
    "    \"\"\"\n",
    "    ka = lambda x: AnnotationTask(data=x).alpha()\n",
    "    try:\n",
    "        alpha = ka(items)\n",
    "    except AssertionError:\n",
    "        alpha = None\n",
    "    if ci:\n",
    "        try:\n",
    "            low, high = bootstrap_ci(items, ka)\n",
    "        except AssertionError:\n",
    "            low, high = None, None\n",
    "        result = {\n",
    "            \"krippendorff's alpha\": alpha,\n",
    "            \"CI 5%\": low, \"CI 95%\": high,\n",
    "            \"N\": len(set([item for worker_id, item, label in items]))\n",
    "        }\n",
    "    else:\n",
    "        result = {\n",
    "            \"krippendorff's alpha\": alpha,\n",
    "            \"N\": len(set([item for worker_id, item, label in items]))\n",
    "        }\n",
    "    return pd.Series(result.values(), result)\n",
    "\n",
    "print(f'{krippendorfs_alpha(judgements) = }')\n",
    "print(f'{krippendorfs_alpha(binary_judgements) = }')\n",
    "print(f'{naive_agreement(binary_judgements) = }')"
   ],
   "metadata": {
    "collapsed": false,
    "ExecuteTime": {
     "end_time": "2023-08-10T14:44:19.583671998Z",
     "start_time": "2023-08-10T14:44:18.636894851Z"
    }
   }
  },
  {
   "cell_type": "code",
   "execution_count": null,
   "outputs": [],
   "source": [],
   "metadata": {
    "collapsed": false,
    "ExecuteTime": {
     "start_time": "2023-08-10T14:41:39.821290841Z"
    }
   }
  }
 ],
 "metadata": {
  "kernelspec": {
   "display_name": "Python 3",
   "language": "python",
   "name": "python3"
  },
  "language_info": {
   "codemirror_mode": {
    "name": "ipython",
    "version": 2
   },
   "file_extension": ".py",
   "mimetype": "text/x-python",
   "name": "python",
   "nbconvert_exporter": "python",
   "pygments_lexer": "ipython2",
   "version": "2.7.6"
  }
 },
 "nbformat": 4,
 "nbformat_minor": 0
}
